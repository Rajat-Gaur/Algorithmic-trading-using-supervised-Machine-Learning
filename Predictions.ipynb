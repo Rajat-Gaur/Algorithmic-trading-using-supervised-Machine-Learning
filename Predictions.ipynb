{
 "cells": [
  {
   "cell_type": "code",
   "execution_count": 86,
   "metadata": {},
   "outputs": [],
   "source": [
    "%matplotlib inline\n",
    "import itertools\n",
    "import time\n",
    "import statsmodels.api as sm\n",
    "import matplotlib.pyplot as plt\n",
    "import pandas as pd\n",
    "import numpy as np\n",
    "import seaborn as sns\n",
    "import matplotlib.pyplot as plt\n",
    "import ta\n",
    "from collections import OrderedDict"
   ]
  },
  {
   "cell_type": "markdown",
   "metadata": {},
   "source": [
    "### Reading all data and features files"
   ]
  },
  {
   "cell_type": "code",
   "execution_count": 94,
   "metadata": {},
   "outputs": [],
   "source": [
    "data,features,merged = OrderedDict(),OrderedDict(),OrderedDict()\n",
    "for i in range(1,51):\n",
    "    s='data'+str(i)\n",
    "    f='features'+str(i)\n",
    "    data[s] = pd.read_csv(f\"raw_data/{i}.csv\", index_col=0)\n",
    "    features[f] = pd.read_csv(f\"features/{i}.csv\", index_col=0)"
   ]
  },
  {
   "cell_type": "markdown",
   "metadata": {},
   "source": [
    "### Merging TA features with Raw Data Files"
   ]
  },
  {
   "cell_type": "code",
   "execution_count": 95,
   "metadata": {},
   "outputs": [],
   "source": [
    "for i in data.keys():\n",
    "    data[i] = ta.utils.dropna(data[i])\n",
    "    data[i] = ta.add_all_ta_features(data[i], open=\"Open\", high=\"High\", low=\"Low\", close=\"Close\", volume=\"Volume\")\n",
    "    data[i].drop(data[i].columns[:5],inplace=True,axis=1)"
   ]
  },
  {
   "cell_type": "code",
   "execution_count": 96,
   "metadata": {},
   "outputs": [],
   "source": [
    "for i in data.keys():\n",
    "    for j in data[i].columns:\n",
    "        data[i][j]=data[i][j].shift(1)"
   ]
  },
  {
   "cell_type": "code",
   "execution_count": 98,
   "metadata": {},
   "outputs": [],
   "source": [
    "for i in range(len(data)):\n",
    "    s='merged'+str(i+1)\n",
    "    merged[s] = data[list(data.keys())[i]].merge(features[list(features.keys())[i]], left_index=True, right_index=True)\n",
    "    merged[s].drop(['trend_psar_up','trend_psar_down','others_dlr','others_dr'],inplace=True,axis=1)\n",
    "    merged[s].dropna(axis=0,how='any',inplace=True)"
   ]
  },
  {
   "cell_type": "code",
   "execution_count": 102,
   "metadata": {},
   "outputs": [],
   "source": [
    "for i in merged['merged1'].columns:\n",
    "    if merged['merged1'][i].isnull().any():\n",
    "        print(i)"
   ]
  },
  {
   "cell_type": "markdown",
   "metadata": {},
   "source": [
    "### Dividing into train and test"
   ]
  },
  {
   "cell_type": "code",
   "execution_count": 105,
   "metadata": {},
   "outputs": [],
   "source": [
    "X, y, test = OrderedDict(), OrderedDict(), OrderedDict()\n",
    "for i in range(len(data)):\n",
    "    s='merged'+str(i+1)\n",
    "    a='X'+str(i+1)\n",
    "    b='y'+str(i+1)\n",
    "    c='test'+str(i+1)\n",
    "    X[a] = merged[s][:460].drop(\"PROClag\",axis=1)\n",
    "    y[b] = merged[s][:460]['PROClag']\n",
    "    test[c] = merged[s][460:].drop(\"PROClag\",axis=1)"
   ]
  },
  {
   "cell_type": "markdown",
   "metadata": {},
   "source": [
    "### Predictors"
   ]
  },
  {
   "cell_type": "code",
   "execution_count": 308,
   "metadata": {},
   "outputs": [
    {
     "data": {
      "text/plain": [
       "40"
      ]
     },
     "execution_count": 308,
     "metadata": {},
     "output_type": "execute_result"
    }
   ],
   "source": [
    "predictors = ['volume_adi',\n",
    " 'volume_obv',\n",
    " 'volume_cmf',\n",
    " 'volume_fi',\n",
    " 'momentum_mfi',\n",
    " 'volume_em',\n",
    " 'volume_vpt',\n",
    " 'volatility_bbm',\n",
    " 'volatility_bbp',\n",
    " 'volatility_dcl',\n",
    " 'trend_macd_signal',\n",
    " 'trend_macd_diff',\n",
    " 'trend_sma_fast',\n",
    " 'trend_sma_slow',\n",
    " 'trend_ema_fast',\n",
    " 'trend_adx_pos',\n",
    " 'trend_vortex_ind_neg',\n",
    " 'trend_mass_index',\n",
    " 'trend_cci',\n",
    " 'trend_dpo',\n",
    " 'trend_kst_diff',\n",
    " 'trend_visual_ichimoku_a',\n",
    " 'trend_visual_ichimoku_b',\n",
    " 'trend_aroon_up',\n",
    " 'momentum_rsi',\n",
    " 'momentum_tsi',\n",
    " 'momentum_uo',\n",
    " 'momentum_stoch',\n",
    " 'momentum_stoch_signal',\n",
    " 'momentum_wr',\n",
    " 'momentum_ao',\n",
    " 'momentum_kama',\n",
    " 'others_cr',\n",
    " 'volumelag',\n",
    " 'rsilag',\n",
    " 'ADlag',\n",
    " 'MA5lag',\n",
    " 'MA15lag',\n",
    " 'day5Returnlag',\n",
    " 'day15Returnlag']\n",
    "len(predictors)"
   ]
  },
  {
   "cell_type": "markdown",
   "metadata": {},
   "source": [
    "### Regression Models for 50 stocks for 1 year (252 days)"
   ]
  },
  {
   "cell_type": "code",
   "execution_count": 112,
   "metadata": {},
   "outputs": [],
   "source": [
    "models50 = OrderedDict()\n",
    "for i in range(len(X)):\n",
    "    m='model'+str(i+1)\n",
    "    a='X'+str(i+1)\n",
    "    b='y'+str(i+1)\n",
    "    models50[m] = sm.OLS(y[b],X[a][predictors]).fit()"
   ]
  },
  {
   "cell_type": "markdown",
   "metadata": {},
   "source": [
    "### Making a dataframe for model results"
   ]
  },
  {
   "cell_type": "code",
   "execution_count": 147,
   "metadata": {},
   "outputs": [],
   "source": [
    "models50_df = pd.DataFrame({'R2':[models50[i].rsquared_adj for i in models50]}, \n",
    "                           index=list(range(1,len(models50)+1)))"
   ]
  },
  {
   "cell_type": "code",
   "execution_count": 148,
   "metadata": {},
   "outputs": [
    {
     "data": {
      "text/html": [
       "<div>\n",
       "<style scoped>\n",
       "    .dataframe tbody tr th:only-of-type {\n",
       "        vertical-align: middle;\n",
       "    }\n",
       "\n",
       "    .dataframe tbody tr th {\n",
       "        vertical-align: top;\n",
       "    }\n",
       "\n",
       "    .dataframe thead th {\n",
       "        text-align: right;\n",
       "    }\n",
       "</style>\n",
       "<table border=\"1\" class=\"dataframe\">\n",
       "  <thead>\n",
       "    <tr style=\"text-align: right;\">\n",
       "      <th></th>\n",
       "      <th>R2</th>\n",
       "    </tr>\n",
       "  </thead>\n",
       "  <tbody>\n",
       "    <tr>\n",
       "      <th>1</th>\n",
       "      <td>0.950421</td>\n",
       "    </tr>\n",
       "    <tr>\n",
       "      <th>2</th>\n",
       "      <td>0.906735</td>\n",
       "    </tr>\n",
       "    <tr>\n",
       "      <th>3</th>\n",
       "      <td>0.951429</td>\n",
       "    </tr>\n",
       "    <tr>\n",
       "      <th>4</th>\n",
       "      <td>0.950252</td>\n",
       "    </tr>\n",
       "    <tr>\n",
       "      <th>5</th>\n",
       "      <td>0.939698</td>\n",
       "    </tr>\n",
       "  </tbody>\n",
       "</table>\n",
       "</div>"
      ],
      "text/plain": [
       "         R2\n",
       "1  0.950421\n",
       "2  0.906735\n",
       "3  0.951429\n",
       "4  0.950252\n",
       "5  0.939698"
      ]
     },
     "execution_count": 148,
     "metadata": {},
     "output_type": "execute_result"
    }
   ],
   "source": [
    "models50_df.head()"
   ]
  },
  {
   "cell_type": "code",
   "execution_count": 166,
   "metadata": {},
   "outputs": [
    {
     "data": {
      "text/plain": [
       "Day505    2.078624\n",
       "Day506   -0.521368\n",
       "Day507    0.683259\n",
       "Day508   -0.255206\n",
       "Day509   -0.664955\n",
       "            ...   \n",
       "Day752   -0.073105\n",
       "Day753   -0.844572\n",
       "Day754   -1.814627\n",
       "Day755    0.900152\n",
       "Day756   -0.339763\n",
       "Length: 252, dtype: float64"
      ]
     },
     "execution_count": 166,
     "metadata": {},
     "output_type": "execute_result"
    }
   ],
   "source": [
    "models50['model2'].predict(test['test2'][predictors])"
   ]
  },
  {
   "cell_type": "markdown",
   "metadata": {},
   "source": [
    "### Final Dataframe with rolling window of training period\n",
    "There are 26 rolling windows each of 252 trading days (1 year) of data and prediction window is 10 days."
   ]
  },
  {
   "cell_type": "code",
   "execution_count": 594,
   "metadata": {},
   "outputs": [],
   "source": [
    "## Start and end of training periods\n",
    "start = list(range(253,505,10))\n",
    "end = list(range(504,756,10))\n",
    "period = 10"
   ]
  },
  {
   "cell_type": "code",
   "execution_count": 595,
   "metadata": {},
   "outputs": [],
   "source": [
    "prediction_df = pd.DataFrame(columns=['model'+str(i) for i in range(1,len(merged)+1)])\n",
    "models_df = pd.DataFrame(columns=['model'+str(i) for i in range(1,len(merged)+1)])"
   ]
  },
  {
   "cell_type": "code",
   "execution_count": 596,
   "metadata": {},
   "outputs": [],
   "source": [
    "for i in range(1,len(merged)+1):\n",
    "    prediction = []\n",
    "    m = 'model' + str(i)\n",
    "    s ='merged' + str(i)\n",
    "    for j in range(len(start)):\n",
    "        X_train = merged[s][ 'Day'+str(start[j]) : 'Day'+str(end[j]) ][predictors]\n",
    "        y_train = merged[s][ 'Day'+str(start[j]) : 'Day'+str(end[j]) ]['PROClag']\n",
    "        models_df.loc[j,m] = sm.OLS(y_train,X_train).fit()\n",
    "        try:\n",
    "            X_test = merged[s][ 'Day'+str(end[j]+1) : 'Day'+str(end[j]+period) ][predictors]\n",
    "            y_test = merged[s][ 'Day'+str(end[j]+1) : 'Day'+str(end[j]+period) ]['PROClag']\n",
    "        except:\n",
    "            X_test = merged[s][ 'Day'+str(end[j]+1) : ][predictors]\n",
    "            y_test = merged[s][ 'Day'+str(end[j]+1) : ]['PROClag']\n",
    "        prediction.extend(list(models_df.loc[j,m].predict(X_test)))\n",
    "    prediction_df[m] = pd.Series(prediction)\n",
    "\n",
    "prediction_df.index += 1\n",
    "prediction_df.to_csv(\"reg_predictions.csv\")"
   ]
  },
  {
   "cell_type": "code",
   "execution_count": 598,
   "metadata": {},
   "outputs": [],
   "source": [
    "start = list(range(253,505,10))\n",
    "end = list(range(504,756,10))\n",
    "period = 10\n",
    "def predictions(start,end,period,merged):\n",
    "    prediction_df = pd.DataFrame(columns=['model'+str(i) for i in range(1,len(merged)+1)])\n",
    "    models_df = pd.DataFrame(columns=['model'+str(i) for i in range(1,len(merged)+1)])\n",
    "    for i in range(1,len(merged)+1):\n",
    "        prediction = []\n",
    "        m = 'model' + str(i)\n",
    "        s ='merged' + str(i)\n",
    "        for j in range(len(start)):\n",
    "            X_train = merged[s][ 'Day'+str(start[j]) : 'Day'+str(end[j]) ][predictors]\n",
    "            y_train = merged[s][ 'Day'+str(start[j]) : 'Day'+str(end[j]) ]['PROClag']\n",
    "            models_df.loc[j,m] = sm.OLS(y_train,X_train).fit()\n",
    "            try:\n",
    "                X_test = merged[s][ 'Day'+str(end[j]+1) : 'Day'+str(end[j]+period) ][predictors]\n",
    "                y_test = merged[s][ 'Day'+str(end[j]+1) : 'Day'+str(end[j]+period) ]['PROClag']\n",
    "            except:\n",
    "                X_test = merged[s][ 'Day'+str(end[j]+1) : ][predictors]\n",
    "                y_test = merged[s][ 'Day'+str(end[j]+1) : ]['PROClag']\n",
    "            prediction.extend(list(models_df.loc[j,m].predict(X_test)))\n",
    "        prediction_df[m] = pd.Series(prediction)\n",
    "\n",
    "    prediction_df.index += 1\n",
    "    prediction_df.to_csv(\"reg_predictions.csv\")"
   ]
  },
  {
   "cell_type": "code",
   "execution_count": 599,
   "metadata": {},
   "outputs": [],
   "source": [
    "predictions(start,end,period,merged)"
   ]
  },
  {
   "cell_type": "code",
   "execution_count": null,
   "metadata": {},
   "outputs": [],
   "source": []
  }
 ],
 "metadata": {
  "kernelspec": {
   "display_name": "Python 3",
   "language": "python",
   "name": "python3"
  },
  "language_info": {
   "codemirror_mode": {
    "name": "ipython",
    "version": 3
   },
   "file_extension": ".py",
   "mimetype": "text/x-python",
   "name": "python",
   "nbconvert_exporter": "python",
   "pygments_lexer": "ipython3",
   "version": "3.7.4"
  }
 },
 "nbformat": 4,
 "nbformat_minor": 2
}
